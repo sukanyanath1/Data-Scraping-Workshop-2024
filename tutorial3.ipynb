{
 "cells": [
  {
   "cell_type": "markdown",
   "metadata": {},
   "source": [
    "# Converting PDF to Text\n",
    "Some other web sites may offer PDFs instead of displaying the content via HTML pages. \n",
    "[PDFMiner](https://github.com/euske/pdfminer) is a library among several others which can be used to extract the content of the Webpages. \n",
    "Below is an example script to extract the report from the URL https://www.bis.org/publ/arpdf/ar2023e.pdf\".\n",
    "\n",
    "Following are some important classes:\n",
    "1. [PDFPage](https://github.com/euske/pdfminer/blob/master/pdfminer/pdfpage.py) describes the properties of a page and points to its contents.\n",
    "2. [PDFResourceManager](https://github.com/euske/pdfminer/blob/master/pdfminer/pdfinterp.py) helps to manage the reuse of shared resources such as fonts and images to prevent multiple allocations.\n",
    "3. [PDFPageInterpreter](https://github.com/euske/pdfminer/blob/master/pdfminer/pdfinterp.py) is a cruicial component that processes the content of individual pages and converts them to a format that can be easily extracted and manipulated.\n",
    "4. [TextConverter](https://github.com/euske/pdfminer/blob/master/pdfminer/converter.py) Obtains the exact location of text as well as other layout information\n",
    "5. [LAParams](https://github.com/euske/pdfminer/blob/master/pdfminer/layout.py) defines the parameters for the layout."
   ]
  },
  {
   "cell_type": "code",
   "execution_count": 1,
   "metadata": {},
   "outputs": [],
   "source": [
    "from urllib import request\n",
    "from pdfminer.pdfpage import PDFPage\n",
    "from pdfminer.pdfinterp import PDFResourceManager, PDFPageInterpreter\n",
    "from pdfminer.converter import TextConverter\n",
    "from tqdm import tqdm\n",
    "import io\n",
    "from pdfminer.layout import LAParams\n",
    "import requests\n"
   ]
  },
  {
   "cell_type": "code",
   "execution_count": 2,
   "metadata": {},
   "outputs": [],
   "source": [
    "pdf_url = \"https://www.bis.org/publ/arpdf/ar2023e.pdf\"\n",
    "response = request.urlopen(pdf_url)\n",
    "input_file = \"report.pdf\"\n",
    "file = open(input_file, 'wb')\n",
    "file.write(response.read())\n",
    "file.close()"
   ]
  },
  {
   "cell_type": "code",
   "execution_count": 3,
   "metadata": {},
   "outputs": [
    {
     "name": "stderr",
     "output_type": "stream",
     "text": [
      "0it [00:00, ?it/s]"
     ]
    },
    {
     "name": "stderr",
     "output_type": "stream",
     "text": [
      "142it [00:24,  5.81it/s]\n"
     ]
    }
   ],
   "source": [
    "i_f = open(input_file,'rb')\n",
    "resMgr = PDFResourceManager()\n",
    "resData = io.StringIO() #It is an in-memory file-like object that allows to read from and write to a string buffer as if it were a file.\n",
    "TxtConverter = TextConverter(resMgr,resData, laparams= LAParams())\n",
    "interpreter = PDFPageInterpreter(resMgr,TxtConverter)\n",
    "for page in tqdm(PDFPage.get_pages(i_f)):\n",
    "    interpreter.process_page(page)\n",
    "txt = resData.getvalue()\n",
    "output_path = \"report.txt\"\n",
    "with open(output_path,'w',encoding='utf-8') as of:\n",
    "    of.write(txt)"
   ]
  },
  {
   "cell_type": "code",
   "execution_count": null,
   "metadata": {},
   "outputs": [],
   "source": []
  }
 ],
 "metadata": {
  "kernelspec": {
   "display_name": ".venv",
   "language": "python",
   "name": "python3"
  },
  "language_info": {
   "codemirror_mode": {
    "name": "ipython",
    "version": 3
   },
   "file_extension": ".py",
   "mimetype": "text/x-python",
   "name": "python",
   "nbconvert_exporter": "python",
   "pygments_lexer": "ipython3",
   "version": "3.11.5"
  }
 },
 "nbformat": 4,
 "nbformat_minor": 2
}
